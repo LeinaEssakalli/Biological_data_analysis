{
 "cells": [
  {
   "cell_type": "code",
   "execution_count": 559,
   "metadata": {},
   "outputs": [],
   "source": [
    "import pandas as pd\n",
    "import numpy as np"
   ]
  },
  {
   "cell_type": "markdown",
   "metadata": {},
   "source": [
    "# 1- Write a Python script to compare the gene names in the two data files. Output the names that appear in Moriarty_SuppTable1 but not Adler_SuppTable2, if any."
   ]
  },
  {
   "cell_type": "markdown",
   "metadata": {},
   "source": [
    "To solve this problem, I first imported both datasets with read_csv(), a function from Pandas.\n",
    "The arguments I used allowed to output effecitvely the data and access the elements - "
   ]
  },
  {
   "cell_type": "code",
   "execution_count": 560,
   "metadata": {},
   "outputs": [],
   "source": [
    "Moriarty_data=pd.read_csv('Moriarty_SuppTable1.txt',header= None, index_col= False,names = ['gene_name', '0h', '12h','24h','48h','96h'], skiprows=1,sep=\"\\s+\")"
   ]
  },
  {
   "cell_type": "code",
   "execution_count": 561,
   "metadata": {
    "scrolled": true
   },
   "outputs": [],
   "source": [
    "Adler_data=pd.read_csv('Adler_SuppTable2.txt',header= None, index_col= False,names = ['gene_name', 'synth_rate', 'halflife'], skiprows=1,sep=\"\\s+\")"
   ]
  },
  {
   "cell_type": "markdown",
   "metadata": {},
   "source": [
    "Creation of lists containing the name of the genes - This will be used later to be able to compare the genes mentioned in the datasets"
   ]
  },
  {
   "cell_type": "code",
   "execution_count": 562,
   "metadata": {},
   "outputs": [],
   "source": [
    "Moriarty_gene_name=Moriarty_data['gene_name'] #list of gene_names\n",
    "Adler_gene_name=Adler_data['gene_name']"
   ]
  },
  {
   "cell_type": "markdown",
   "metadata": {},
   "source": [
    "This is simply used to double check that the list have proprely been created and correspond to what we expect. \n",
    "I only output the 10 first element (too long list to be printed) "
   ]
  },
  {
   "cell_type": "code",
   "execution_count": 563,
   "metadata": {
    "scrolled": true
   },
   "outputs": [
    {
     "name": "stdout",
     "output_type": "stream",
     "text": [
      "0           HAND2\n",
      "1    RP11-484M3.5\n",
      "2            TESC\n",
      "3          RNF175\n",
      "4            RSF1\n",
      "5             BLK\n",
      "6      AC008810.1\n",
      "7          HAVCR2\n",
      "8        SERPINB3\n",
      "9         CCDC181\n",
      "Name: gene_name, dtype: object\n"
     ]
    }
   ],
   "source": [
    "print(Adler_gene_name[0:10]) #check"
   ]
  },
  {
   "cell_type": "code",
   "execution_count": 564,
   "metadata": {},
   "outputs": [
    {
     "name": "stdout",
     "output_type": "stream",
     "text": [
      "are the 2 lists containing the gene names identical :\n"
     ]
    },
    {
     "data": {
      "text/plain": [
       "False"
      ]
     },
     "execution_count": 564,
     "metadata": {},
     "output_type": "execute_result"
    }
   ],
   "source": [
    "print('are the 2 lists containing the gene names identical :')\n",
    "pd.DataFrame.equals(Adler_gene_name,Moriarty_gene_name)  \n"
   ]
  },
  {
   "cell_type": "markdown",
   "metadata": {},
   "source": [
    "Now that we know that the 2 list of gene names are different - we want to output the one that are differents(more specifically, the one that are in the Moriarty gene names list but not in the Adler one. \n",
    "To do so , I used the numpy function - np.setdiff1d(Moriarty_gene_name,Adler_gene_name)"
   ]
  },
  {
   "cell_type": "code",
   "execution_count": 565,
   "metadata": {
    "scrolled": false
   },
   "outputs": [
    {
     "name": "stdout",
     "output_type": "stream",
     "text": [
      "the gene names that appears in Moriarty file but not in Alder file are :\n",
      "['1-Dec' '1-Mar' '1-Sep' '10-Mar' '10-Sep' '11-Mar' '11-Sep' '12-Sep'\n",
      " '14-Sep' '15-Sep' '2-Mar' '2-Sep' '3-Mar' '3-Sep' '4-Mar' '4-Sep' '5-Mar'\n",
      " '5-Sep' '6-Mar' '6-Sep' '7-Mar' '7-Sep' '8-Mar' '8-Sep' '9-Mar' '9-Sep']\n",
      "the number of genes that appears in Moriarty file but not in Alder file is : 26\n"
     ]
    }
   ],
   "source": [
    "print('the gene names that appears in Moriarty file but not in Alder file are :')\n",
    "\n",
    "Moriarty_list_exclusively = np.setdiff1d(Moriarty_gene_name,Adler_gene_name)\n",
    "print(Moriarty_list_exclusively)\n",
    "print('the number of genes that appears in Moriarty file but not in Alder file is :', len(Moriarty_list_exclusively))\n"
   ]
  },
  {
   "cell_type": "markdown",
   "metadata": {},
   "source": [
    "My guess is that the difference is due to the fact that Moriarty used excel to export the data, and Excel converted gene names by dates- and therefore, those \"gene names\" dont appear in the Alder datafile  "
   ]
  },
  {
   "cell_type": "markdown",
   "metadata": {},
   "source": [
    "# 2. explore the data\n"
   ]
  },
  {
   "cell_type": "markdown",
   "metadata": {},
   "source": [
    "*2.1 output the five genes with the highest mRNA synthesis rate. (i.e. in Adler_SuppTable2)*\n",
    "\n",
    "\n",
    "    Adler_Dataset_5highest_synth_rate=Adler_data.nlargest(5, ['synth_rate'])- selects, from the column synth_rate, (from the dataset Adler_data) the 5 genes that have the highest value. \n",
    "Then the for loop is used to output the genes that have been filtered using the nlargest function \n",
    "The reasion I used a for loop is that outputing Adler_Dataset_5highest_synth_rate_gene directly would also print the indexes of those genes"
   ]
  },
  {
   "cell_type": "code",
   "execution_count": 566,
   "metadata": {
    "scrolled": false
   },
   "outputs": [
    {
     "name": "stdout",
     "output_type": "stream",
     "text": [
      "The five genes with the highest mRNA synthesis rate are \n",
      "PLD4\n",
      "YTHDF1\n",
      "ARHGAP11B\n",
      "quince\n",
      "AL513412.1\n"
     ]
    }
   ],
   "source": [
    "Adler_Dataset_5highest_synth_rate=Adler_data.nlargest(5, ['synth_rate'])\n",
    "print('The five genes with the highest mRNA synthesis rate are ')\n",
    "Adler_Dataset_5highest_synth_rate_gene = Adler_Dataset_5highest_synth_rate['gene_name']\n",
    "for x in Adler_Dataset_5highest_synth_rate_gene:\n",
    "    print(x)\n"
   ]
  },
  {
   "cell_type": "markdown",
   "metadata": {},
   "source": [
    "*2.1 output the five genes with the longest mRNA halflife. (i.e. in Adler_SuppTable2)*\n",
    "Similar processedure is used for outputing the genes with the longest mRNA halflife "
   ]
  },
  {
   "cell_type": "code",
   "execution_count": 567,
   "metadata": {
    "scrolled": true
   },
   "outputs": [
    {
     "name": "stdout",
     "output_type": "stream",
     "text": [
      "The five genes with the longest mRNA halflife: \n",
      "SEZ6\n",
      "FBXO30\n",
      "OR52I1\n",
      "CLDN14\n",
      "FLYWCH1\n"
     ]
    }
   ],
   "source": [
    "Adler_Dataset_5longest_half_life=Adler_data.nlargest(5, ['halflife'])\n",
    "print('The five genes with the longest mRNA halflife: ')\n",
    "Adler_Dataset_5longest_half_life_gene = Adler_Dataset_5longest_half_life['gene_name']\n",
    "for x in Adler_Dataset_5longest_half_life_gene:\n",
    "    print(x)"
   ]
  },
  {
   "cell_type": "markdown",
   "metadata": {},
   "source": [
    "The first \"native\" observation that we can make is that the five genes with the longest mRNA halflife are different from the five genes with the highest mRNA synthesis rate - lets keep exploring the data\n"
   ]
  },
  {
   "cell_type": "markdown",
   "metadata": {},
   "source": [
    "2.3 output the five genes that have the highest ratio of expression at t=96 hours post-mortem vs. t=0 (i.e. in Moriarty_SuppTable1) - again same procedure used to select the highest ratios "
   ]
  },
  {
   "cell_type": "code",
   "execution_count": 568,
   "metadata": {},
   "outputs": [],
   "source": [
    "#adding cols to the Moriarty dataframe \n",
    "\n",
    "Moriarty_data = Moriarty_data.assign(Ratio12h = Moriarty_data['12h'] / Moriarty_data['0h'])\n",
    "Moriarty_data = Moriarty_data.assign(Ratio24h = Moriarty_data['24h'] / Moriarty_data['0h'])\n",
    "Moriarty_data = Moriarty_data.assign(Ratio48h = Moriarty_data['48h'] / Moriarty_data['0h'])\n",
    "Moriarty_data = Moriarty_data.assign(Ratio96h = Moriarty_data['96h'] / Moriarty_data['0h'])"
   ]
  },
  {
   "cell_type": "code",
   "execution_count": 569,
   "metadata": {},
   "outputs": [
    {
     "name": "stdout",
     "output_type": "stream",
     "text": [
      "The five genes with highest ratio of expression at t=96 hours post-mortem vs. t=0\n",
      "SEZ6\n",
      "FBXO30\n",
      "CLDN14\n",
      "OR52I1\n",
      "FLYWCH1\n"
     ]
    }
   ],
   "source": [
    "Moriarty_Dataset_highestratio96_0=Moriarty_data.nlargest(5, ['Ratio96h'])\n",
    "print('The five genes with highest ratio of expression at t=96 hours post-mortem vs. t=0') \n",
    "Moriarty_Dataset_highestratio96_0_gene=Moriarty_Dataset_highestratio96_0['gene_name']\n",
    "for x in Moriarty_Dataset_highestratio96_0_gene:\n",
    "    print(x)"
   ]
  },
  {
   "cell_type": "markdown",
   "metadata": {},
   "source": [
    "The second observation that we can make is that the five genes with the highest mRNA synthesis rate are the same as the one with the highest ratio of expression at t=96 post_mortem vs t=0 \n",
    "Lets keep exploring and selecting the gene with the ratio of expression at t=24 t=48 and t=98 all vs t=0\n",
    "Please note that this is not answering a question of the problem set- its just an extra to start understanding what is happening \n",
    "\n"
   ]
  },
  {
   "cell_type": "code",
   "execution_count": 570,
   "metadata": {
    "scrolled": true
   },
   "outputs": [
    {
     "name": "stdout",
     "output_type": "stream",
     "text": [
      "The five genes with highest ratio of expression at t=12 hours post-mortem vs. t=0\n",
      "SEZ6\n",
      "TIAM2\n",
      "LAT2\n",
      "MECR\n",
      "METTL23\n"
     ]
    }
   ],
   "source": [
    "Moriarty_Dataset_highestratio12_0=Moriarty_data.nlargest(5, ['Ratio12h'])\n",
    "print('The five genes with highest ratio of expression at t=12 hours post-mortem vs. t=0') \n",
    "Moriarty_Dataset_highestratio12_0_gene=Moriarty_Dataset_highestratio12_0['gene_name']\n",
    "\n",
    "for x in Moriarty_Dataset_highestratio12_0_gene:\n",
    "    print(x)"
   ]
  },
  {
   "cell_type": "code",
   "execution_count": 571,
   "metadata": {
    "scrolled": false
   },
   "outputs": [
    {
     "name": "stdout",
     "output_type": "stream",
     "text": [
      "The five genes with highest ratio of expression at t=24 hours post-mortem vs. t=0\n",
      "FBXO30\n",
      "MECR\n",
      "SEZ6\n",
      "LAT2\n",
      "OR52I1\n"
     ]
    }
   ],
   "source": [
    "Moriarty_Dataset_highestratio24_0=Moriarty_data.nlargest(5, ['Ratio24h'])\n",
    "print('The five genes with highest ratio of expression at t=24 hours post-mortem vs. t=0') \n",
    "Moriarty_Dataset_highestratio24_0_gene=Moriarty_Dataset_highestratio24_0['gene_name']\n",
    "\n",
    "for x in Moriarty_Dataset_highestratio24_0_gene:\n",
    "    print(x)"
   ]
  },
  {
   "cell_type": "code",
   "execution_count": 572,
   "metadata": {},
   "outputs": [
    {
     "name": "stdout",
     "output_type": "stream",
     "text": [
      "The five genes with highest ratio of expression at t=48 hours post-mortem vs. t=0\n",
      "FBXO30\n",
      "MECR\n",
      "SEZ6\n",
      "LAT2\n",
      "OR52I1\n"
     ]
    }
   ],
   "source": [
    "Moriarty_Dataset_highestratio48_0=Moriarty_data.nlargest(5, ['Ratio48h'])\n",
    "print('The five genes with highest ratio of expression at t=48 hours post-mortem vs. t=0') \n",
    "Moriarty_Dataset_highestratio48_0_gene=Moriarty_Dataset_highestratio24_0['gene_name']\n",
    "\n",
    "for x in Moriarty_Dataset_highestratio48_0_gene:\n",
    "    print(x)"
   ]
  },
  {
   "cell_type": "markdown",
   "metadata": {},
   "source": [
    " for simplicity in the explantion I will use ratio12 for ratio of expression at t=12 hours post-mortem vs. t=0- similary for the other ratio\n",
    "\n",
    "    - SEZ16 and OR52I1 genes are among the 5 genes with the highest Ratio96, Ratio48, Ratio24 and Ratio12 \n",
    "    - FBXO30 gene is among the 5 genes with the highest Ratio96, Ratio48 and Ratio24\n",
    "    - LAT2 and MECR  genes are among the 5 genes with the highest  Ratio48, Ratio24 and Ratio12"
   ]
  },
  {
   "cell_type": "markdown",
   "metadata": {},
   "source": [
    "# 3  figure out what happened"
   ]
  },
  {
   "cell_type": "markdown",
   "metadata": {},
   "source": [
    "Write a Python script that merges the two data files, line by line, merging them on gene name. That is, for each line in file 1 for gene X, find the corresponding line for gene X in file 2; we’re going to write a single output file with one line per gene. The genes are in different orders in the files, so this merge isn’t entirely trivial. For any gene name X that isn’t found in both files (cough cough Excel corruption cough cough) just skip it. For each gene name that is found in both files, output one whitespace-delimited, column-justified data line consisting of 7 fields per line:"
   ]
  },
  {
   "cell_type": "markdown",
   "metadata": {},
   "source": [
    "creation of two dictionaries - the keys are the gene_name the values are lists \n",
    "for Moriarty the list correspond to the ratio12,24,48&96\n",
    "for Adler the list correspond to the synth_rate and the half life \n",
    "I decided to force every key to be in lower case (in the original files some where in lower and some in upper case) to be able to do the comparaison and check whether if the gene name are in both datasets."
   ]
  },
  {
   "cell_type": "code",
   "execution_count": 573,
   "metadata": {},
   "outputs": [],
   "source": [
    "moriaty_file = 'Moriarty_SuppTable1.txt' #loading the dataset and storing it under the variable moriaty_file\n",
    "moriaty_dict = {} #initializing the dict \n",
    "adler_dict = {}\n",
    "adler_file= 'Adler_SuppTable2.txt'\n",
    "Moriarty_data_LC=Moriarty_data['gene_name'].str.lower() #used to convert all gene name in lower case \n",
    "Moriarty_gene_name= Moriarty_data_LC.sort_values() #sort in alphabetic order\n",
    "Adler_data_LC = Adler_data['gene_name'].str.lower() #used to convert all gene name in lower case\n",
    "Adler_data_sorted = Adler_data_LC.sort_values() #sort in alphabetic order"
   ]
  },
  {
   "cell_type": "code",
   "execution_count": 574,
   "metadata": {
    "scrolled": true
   },
   "outputs": [],
   "source": [
    "with open(moriaty_file, 'r') as source:\n",
    "    for line in source: \n",
    "        temp_list = [] #temporary list to store all the values in the dictionary.\n",
    "        if line[0] == '#': continue     #if the row is a # ,ignore it \n",
    "        wt_M= float(line.split()[1])\n",
    "        float_0h=float(line.split()[1]) #convert to float - needed for being able to get the ratio \n",
    "        temp_list.append(float_0h) #append the 0h\n",
    "        float_12h= float(line.split()[2])\n",
    "        temp_list.append(float_12h) #append the 12h\n",
    "        float_24h=float(line.split()[3])\n",
    "        temp_list.append(float_24h) #append the 24h\n",
    "        float_48h= float(line.split()[4])\n",
    "        temp_list.append(float_48h) #append the 48h\n",
    "        float_96h= float(line.split()[5])\n",
    "        temp_list.append(float_96h) #append the 96h\n",
    "        moriaty_dict[(line.split()[0])] = temp_list #set the values of the dictionary and the key to be the gene name\n",
    "\n",
    "moriaty_dict =  {k.lower(): v for k, v in moriaty_dict.items()} #converting the keys of the dictionary to lower case\n",
    "#print (moriaty_dict.keys()) #check \n",
    "\n",
    " # repeating the process for the adler file     \n",
    "with open(adler_file, 'r') as source:\n",
    "    for line in source: \n",
    "        temp_list = [] #temporary list to store all the values in the dictionary.\n",
    "        if line[0] == '#': continue  \n",
    "        temp_list.append(line.split()[1]) #append the synth_rate\n",
    "        temp_list.append(line.split()[2]) #append the half life \n",
    "        adler_dict[(line.split()[0])] = temp_list\n",
    "adler_dict=  {k.lower(): v for k, v in adler_dict.items()}\n",
    "\n",
    "\n"
   ]
  },
  {
   "cell_type": "markdown",
   "metadata": {},
   "source": [
    "checking if the dictionary Moriarty has been proprely created \n",
    "The way I implemented it was to use a if else statement-  "
   ]
  },
  {
   "cell_type": "code",
   "execution_count": 576,
   "metadata": {},
   "outputs": [
    {
     "name": "stdout",
     "output_type": "stream",
     "text": [
      "The dictionary Moriarty has been proprely created\n"
     ]
    }
   ],
   "source": [
    "count=0\n",
    "for gene in Moriarty_gene_name :\n",
    "    if gene not in moriaty_dict.keys(): continue \n",
    "            \n",
    "    else :\n",
    "        count = count+1\n",
    "        \n",
    "if count == len(Moriarty_gene_name):\n",
    "    print('The dictionary Moriarty has been proprely created')\n",
    "      "
   ]
  },
  {
   "cell_type": "markdown",
   "metadata": {},
   "source": [
    "Verify that the adler dictionary has proprely been created "
   ]
  },
  {
   "cell_type": "code",
   "execution_count": 577,
   "metadata": {},
   "outputs": [
    {
     "name": "stdout",
     "output_type": "stream",
     "text": [
      "The dictionary Adler has been proprely created\n"
     ]
    }
   ],
   "source": [
    "\n",
    "if (len(adler_dict.keys())==len(Adler_data)):\n",
    "    print('The dictionary Adler has been proprely created')\n"
   ]
  },
  {
   "cell_type": "markdown",
   "metadata": {},
   "source": [
    "the code bellow is used to identify the genes that are not commun to both the data set - They correspond to the one we selected earlier in this problem set"
   ]
  },
  {
   "cell_type": "code",
   "execution_count": 578,
   "metadata": {
    "scrolled": true
   },
   "outputs": [
    {
     "name": "stdout",
     "output_type": "stream",
     "text": [
      "the number of genes present in both data set is  20003\n",
      "the number of gene only present in one data set or the others is  28\n",
      "these genes bellow will therefore be ignored for the purpuse of our analyis\n",
      "['dec1', 'marc1', 'marc2', 'march1', 'march10', 'march11', 'march2', 'march3', 'march4', 'march5', 'march6', 'march7', 'march8', 'march9', 'sep15', 'sept1', 'sept10', 'sept11', 'sept12', 'sept14', 'sept2', 'sept3', 'sept4', 'sept5', 'sept6', 'sept7', 'sept8', 'sept9']\n"
     ]
    }
   ],
   "source": [
    "# Adler_data_sorted containing Adler gene names,sorted by alphabetic order.\n",
    "#will be used to loop over\n",
    "\n",
    "mutual_genes=[] #this is a list of the gene present in both data set\n",
    "non_mutual_genes=[] #this is a list of the genes that are not present in both(only one or the other)\n",
    "\n",
    "for gene in Adler_data_sorted : \n",
    "    if gene in moriaty_dict.keys(): \n",
    "        mutual_genes.append(gene)\n",
    "    else : \n",
    "        non_mutual_genes.append(gene)\n",
    "    \n",
    "        \n",
    "print('the number of genes present in both data set is ', len(mutual_genes))\n",
    "#print(mutual_genes[0:10]) check\n",
    "print ('the number of gene only present in one data set or the others is ', len(non_mutual_genes))\n",
    "print('these genes bellow will therefore be ignored for the purpuse of our analyis')\n",
    "print(non_mutual_genes)\n",
    "\n",
    "        "
   ]
  },
  {
   "cell_type": "code",
   "execution_count": 579,
   "metadata": {
    "scrolled": true
   },
   "outputs": [],
   "source": [
    "a=open('merged_data.txt', 'w') #creation of a file called merged_data, where we will input the merged data from the 2 dataset\n",
    "#header\n",
    "a.write('gene_name'.rjust(20,' ')+'\\t'+ 'Ratio12' + '\\t' + 'ratio24' + '\\t' +'ratio48'  + '\\t' + 'ratio96' + '\\t' + 'SR' +'\\t' + 'HL'+'\\n')\n",
    "for gene in Adler_data_sorted : #looping over the list of lower cases, sorted gene names of the Adler data set \n",
    "    if gene in moriaty_dict.keys(): #condition to check that we are only writing genes present in both datasets\n",
    "        ratio12=str(round(moriaty_dict[gene][1]/moriaty_dict[gene][0], 2)) #does the division,truncate the results and then convert into a str\n",
    "        ratio24=str(round(moriaty_dict[gene][2]/moriaty_dict[gene][0],2)) \n",
    "        ratio48=str(round(moriaty_dict[gene][3]/moriaty_dict[gene][0],2))\n",
    "        ratio96=str(round(moriaty_dict[gene][4]/moriaty_dict[gene][0],2))\n",
    "        string = gene.rjust(20,' ') +'\\t'+ ratio12+ '\\t' + ratio24 +'\\t' + ratio48 +'\\t' + ratio96 + '\\t'  + adler_dict[gene][0]+'\\t' + adler_dict[gene][1] \n",
    "        #rjust(20,' ') since some gene_names are long string - the function rjust is used avoid the value to be col justified \n",
    "        a.write(string) \n",
    "        a.write('\\n') #end of a row, next iteration correspond to the next gene\n",
    "         \n",
    "    "
   ]
  },
  {
   "cell_type": "markdown",
   "metadata": {},
   "source": [
    "Since I looped over a list of genes names(ordered by alphabetic order) the merged dataframe is also ordered by alphabetic order "
   ]
  },
  {
   "cell_type": "markdown",
   "metadata": {},
   "source": [
    "This result that have been obtained is a relative abundance - The units used in those RNA seq experiments  is TPM - \n",
    "which stands for transcript per million transcript. In other terms, having a high TMP read doesnt necessarily mean that the gene is upreagulated (in which case the synthesis rate will be high)- It just means that its relative abundance compared to other genes is high. \n",
    "\n",
    "The gene that get are recorded as relatively more expressed (compared to the higher genes) are in fact those that get translated into mRNA that have a long half life. \n",
    "Therefore , once the animal is dead, they are not yet degraded while the other RNA with shortest half life are already 'gone'. \n",
    "In that condition, the Relative abundance of mRNAs with longest half life is higher. Thats doesnt mean that their 'corresponding' genes are upregulated after death. \n",
    "By having a closer look at the merge data we can actually notice the gene with higher ratio96 are effectively those with long half life but not necessarily those with long synthesis rate\n"
   ]
  }
 ],
 "metadata": {
  "kernelspec": {
   "display_name": "Python 3",
   "language": "python",
   "name": "python3"
  },
  "language_info": {
   "codemirror_mode": {
    "name": "ipython",
    "version": 3
   },
   "file_extension": ".py",
   "mimetype": "text/x-python",
   "name": "python",
   "nbconvert_exporter": "python",
   "pygments_lexer": "ipython3",
   "version": "3.7.3"
  }
 },
 "nbformat": 4,
 "nbformat_minor": 2
}
