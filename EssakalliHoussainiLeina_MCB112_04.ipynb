{
 "cells": [
  {
   "cell_type": "code",
   "execution_count": 1,
   "metadata": {},
   "outputs": [],
   "source": [
    "\n",
    "import numpy as np \n",
    "import matplotlib.pyplot as plt\n",
    "import itertools\n",
    "from itertools import product\n",
    "import operator\n",
    "import cmath as math\n",
    "  \n",
    "from functools import reduce \n",
    "import sklearn.metrics as metrics"
   ]
  },
  {
   "cell_type": "markdown",
   "metadata": {},
   "source": [
    "# 1 test Moriarty’s method yourself\n",
    "After some prying on your part, Moriarty reluctantly discloses that his secret proprietary machine learning\n",
    "method is to score +1 for each A or T, and -1 for each C or G.\n",
    "You note that Moriarty showed results for discriminating against random sequences (of uniform base\n",
    "composition), but the problem is to discriminate against sand mouse sequences.\n",
    "Implement Moriarty’s secret proprietary machine learning method. Test it on the sequences in pathogen.fa and\n",
    "sandmouse.fa. Make a plot of your own, showing a histogram and a ROC plot like in Moriarty’s figure, but for\n",
    "performance in discriminating pathogen from sand mouse sequences, using matplotlib.\n",
    "What do you conclude? Why are your results different from Moriarty’s?"
   ]
  },
  {
   "cell_type": "markdown",
   "metadata": {},
   "source": [
    "lets first investigate the begining of the 3 different files"
   ]
  },
  {
   "cell_type": "code",
   "execution_count": 2,
   "metadata": {},
   "outputs": [
    {
     "name": "stdout",
     "output_type": "stream",
     "text": [
      ">pathogen.1\r\n",
      "TTTAGATCGCCCATTGGTCTTCCTCAAAAAGCATATACTGTTCAAAAGCTCACAAATGAATCCATTTGTTAATTGTGAGATGATTAATTCCCGTTAACATTATAAGGCAATACCATATGGTATTGCGTTTCCACAATTACTTAAGAAAACAATATAATTTAAATGGTTTTTTCGTAGCTATATTTATATTAAAAAGTTTC\r\n",
      ">pathogen.2\r\n",
      "AGTGGTGCAATATAGGATGTATTAGATGCATGTTAAAGCATTGTTATTTTGCGGTTTTCAAATAAAAAAGAAACCAATCTCAAAACAGGACAGTATATTTATATCTTAGAATTCCAGCAACTAAAAGATTTTTCCTTATTTAAGTTATGTCTATATCATTTTTGTATGCAACAAATTAAATATAAATTAATGTTTGTTAA\r\n",
      ">pathogen.3\r\n",
      "CTATGGAAAAAAAAGAATTGGGGATTAGTAGAGTGGAATAAAACAGAATATATAAAATATCACGTCATTTTTATGCCATTCCTACATAATATTTAGTAAGAAAATAGCTAAAATTCAAACGCATTTTTAGAACTAAATTTAGACAAATAATACTGTTTTAAGCAAACAATTTTAGATTTTTAAAAAATGAATGTTTTTGG\r\n",
      ">pathogen.4\r\n",
      "TTTTTGAAATTTTCCGATTTTATGGAATAATCTTTTAAATTTCCTATCCTGGAACAAACATTTTAAAATGGCATAATAGAAAAACAAACAAGTTTTATAAGACATGTATATTTATATGATACAGGTTAAAAAATATTTTCATATTTTATTAAAATTAATCTTTTATAGTGGCAACTAATTTGAGAATATAAGTGAAAGAG\r\n",
      ">pathogen.5\r\n",
      "ATTTACGCAAAAATTTAACTTTTTATTATCTCTAGAAAAAGCAATGAATATTATCTTAGAATCGTTTTTATCCATATAAGGAAAATTTGCAAGGAACATGGACGCTATATCAATTCCATAGCAAAATAAAAAAGAATGTATTTAAAATAGATTTTTTTAATTAAGAAGAGTTTTTTAATCCGCATGGAGCTTTCTATATA\r\n"
     ]
    }
   ],
   "source": [
    "! head pathogen.fa.txt"
   ]
  },
  {
   "cell_type": "code",
   "execution_count": 3,
   "metadata": {
    "scrolled": true
   },
   "outputs": [
    {
     "name": "stdout",
     "output_type": "stream",
     "text": [
      ">sandmouse.1\r\n",
      "ATCAATTAAAAAAAACATGGATTACTCACTTTAGAAATATACTTAATCATACAGCCTAGTAGTTATATTAAAGATTTTTACAATTATATACTCATATTAAGAGCTTTTTACATTATATCAATATCGGATTTTGAACCCATTTTGTATTTATAAATTAGATTAGACGAGAGTCTTATAGATCTTTTAGTTTCTAGTTATTC\r\n",
      ">sandmouse.2\r\n",
      "ATATATATTATTCTCTCTCTTGCTGAATTAACCCGATTATATAATTTCGAGTAGGTAATAATAATAGAGATCTATTATCATTCGCATTTTGATTTTCATTCAGTTTACTTTTTAAAAATACTGTTGCACAATGATTATTACTTTCTGAATAGATTTTAATATATTGTTCTATGACAGTAAAATCTATACATTTGTTTATA\r\n",
      ">sandmouse.3\r\n",
      "TATTGAAGATGGTATTAAATCAACTTATTTCATTAAAATAATTTTACTATAATCAGTAATAAACAACATATAGAATCGTATGATATAGCTTTGTAAGTAGACGAAAACTAGAGTATACACTTTAAATATGATGGGGTATAAACAAAAACTATTATTGTAAAAATTTTTATAGTTATTATTAAAGCAAAATCACTGAGAAA\r\n",
      ">sandmouse.4\r\n",
      "CAAATAAATTATTTGTGATTTTAATAAATTTATGTTTTCAATAAATTTCACCACCTTTAGATAACTATTCATTGATATATGGTTATGTGATGTAAAACGTCTGGTAATGAATACATTTTAACCATATATTATATTTATCTAAGTTGATAAATTCTATATTTGTAAAATGTGTAATATAAAAAGAAATTATTTAAATTAAG\r\n",
      ">sandmouse.5\r\n",
      "TAAATTACTAGTAATAATATCTATAGAGCTAAATTAACACTAGGTATATAAGAAACAATACATTTTCATTATTCAAATTCGATATAGTATCTTGTATTAGTACGATACCTATACAAAGTGTAATATTTATAGAGAATTGCAAATATCTGCTTTTCCAAAAATGATTAGATATCTATTATATATTTAGATTTGGAAAATAT\r\n"
     ]
    }
   ],
   "source": [
    "! head sandmouse.fa.txt"
   ]
  },
  {
   "cell_type": "code",
   "execution_count": 4,
   "metadata": {},
   "outputs": [
    {
     "name": "stdout",
     "output_type": "stream",
     "text": [
      ">neg.1\r\n",
      "TAAATACAAGGATGCAACAACGACAGTAGAACGTTAATCCCATGCAGTGACGAACTATCCGGCCCCAGGACTGTCCACGCATACGACGATGTACTGGTCCGCCGTTGCCATAATGTGACACAGTTGTCAATTGTAAGTATGTCTGCGGCATTCCGACGAGGTCAATAGTGCTCTGATTTCCTGTTGAGGAGTTAATAAAA\r\n",
      ">neg.2\r\n",
      "CCGGAAGCCCATCATCTGGTCTCTCTGACACGCACCGAATTAACTGGAATAGATGGGGTATAGCGCAACGCTTATCGGCGTGTTGCATAGGGATTACGGGCTCGAGGAGCGTGACGTCTGTGAATCACTGGGACGCAATTACGGGTCGACATTCGTACCATCCGACTGGGATTACTCAGGCCTAGATCACACATTAGTTT\r\n",
      ">neg.3\r\n",
      "TGCCCCAGTTTGCCGCGTTCGATTGGAAGGGTATAGGCTTGTGCGACGATTTCCGGCCCTGCCATTTGACCGCAGACATCGATAGATTACCGAATGAAGGGTTTGATAGCTTCCCTGCCATTCATCATTCACCCTGTGCCCTACCTGCGGCGGACGCGGTTCGGAATCGCAACCTAGTCTACTTGCGTTGATGAGACCTT\r\n",
      ">neg.4\r\n",
      "TCGATGCAAAGTATGCTACCAGTGAGAGAAGCGGCGGCAAAGCAAGCTGTGGCCTAACGTAGCCAAAGTTCTATTCGACAATCTCATAACCGGGCTCAGCTTTGCACGCCGCGTCAGTAGATCTCACAACAGAAATCACTAGGTGTCGGAGAGTCACAATGTGTCGCGGCGTTCTACTACTGTTCTCGGGACGTAATGGT\r\n",
      ">neg.5\r\n",
      "TGTGATCTTGACGACCGCAAACAAAAAATTAAGCTAATTGACTTTGTGGAAGCCAAAGGGGAAATCTAGGAGCAAGAACGGATAATAAGGAGCGCTCGCGTAAGCCTCTCGATGATCTTGAGGCGAGGACGAACTCGCAAGGTCCAGGAATGCTCAATTAACTAGAGACGCTAGGGTGGAGAAGCGTGCACGATGAACTT\r\n"
     ]
    }
   ],
   "source": [
    "! head moriarty-neg.fa.txt"
   ]
  },
  {
   "cell_type": "code",
   "execution_count": 5,
   "metadata": {
    "scrolled": true
   },
   "outputs": [],
   "source": [
    "# initialize sandmouse&pathogen&random lists\n",
    "sandmouse_data = []\n",
    "pathogen_data = []\n",
    "random_data =[]\n",
    "# load data from files\n",
    "with open('pathogen.fa.txt') as pathogen_file:\n",
    "    for line in pathogen_file:\n",
    "        if line[0]=='>':continue  #if first element of the line is > -ignore it(because it correspond to a gene name)\n",
    "        pathogen_data.append(line.strip())\n",
    "with open('sandmouse.fa.txt') as sandmouse_file:\n",
    "    for line in sandmouse_file:\n",
    "        if line[0]=='>':continue \n",
    "        sandmouse_data.append(line.strip()) #.strip() to skip the /n at the end of each reads\n",
    "with open('moriarty-neg.fa.txt') as random_file:\n",
    "    for line in random_file:\n",
    "        if line[0]=='>':continue \n",
    "        random_data.append(line.strip()) #.strip() to skip the /n at the end of each reads        \n",
    " "
   ]
  },
  {
   "cell_type": "markdown",
   "metadata": {},
   "source": [
    "feel free to uncomment  the chunk bellow - Check point - in the rest of this pset I included different check point - commented chunk - "
   ]
  },
  {
   "cell_type": "code",
   "execution_count": 6,
   "metadata": {},
   "outputs": [],
   "source": [
    "  \n",
    "# print(pathogen_data[0:2])\n",
    "# print(sandmouse_data[0:2])\n",
    "# print(random_data[0:2])\n",
    " \n",
    "# print(len(pathogen_data))\n",
    "# print(len(sandmouse_data))\n",
    "# print(len(random_data))\n",
    "\n"
   ]
  },
  {
   "cell_type": "markdown",
   "metadata": {},
   "source": [
    "for each sequence(in pathogen_data/sandmouse_data & random_data) lets get the scores the way moriaty defined the score - \n",
    "I go through all the sequences at each position if the nucleotide is a A or T then I add 1 to count_A_T and add 1 to count_A_T if the nucelotide is a C or G  \n",
    "\n",
    "then after going through each sequence I update the final score of this sequence - count_A_T-count_C_G  and I append it to the score_array. \n",
    "\n",
    "Therefore , score_array is the same size as the number of sequences in each data set"
   ]
  },
  {
   "cell_type": "code",
   "execution_count": 7,
   "metadata": {
    "scrolled": true
   },
   "outputs": [],
   "source": [
    "num_seq = len(pathogen_data) #len(sandmouse_data) & len(random_data) are the same \n",
    "\n",
    "def get_score(list_of_interest):\n",
    "    score_array=[]\n",
    "    for i in list_of_interest :\n",
    "        count_A_T=0 #reinitialise for each sequence\n",
    "        count_C_G=0\n",
    "        for letter in i :\n",
    "            if letter=='A' : \n",
    "                count_A_T=count_A_T+1\n",
    "            elif letter=='T' : \n",
    "                count_A_T=count_A_T+1\n",
    "            elif letter=='C' :\n",
    "                count_C_G=count_C_G+1\n",
    "            elif letter=='G' :\n",
    "                count_C_G=count_C_G+1\n",
    "                \n",
    "        score= count_A_T-count_C_G  #because 1 A or T is +1 and C or G is -1  \n",
    "        score_array.append(score)\n",
    "    return (score_array) \n"
   ]
  },
  {
   "cell_type": "code",
   "execution_count": 8,
   "metadata": {},
   "outputs": [],
   "source": [
    "#check\n",
    "# print(get_score(pathogen_data)[0:10])\n",
    "# print(get_score(sandmouse_data)[0:10])\n",
    "# print(get_score(random_data)[0:10])\n",
    "# print('the len of the score for pathogen data is ',len(get_score(pathogen_data))) \n",
    "# print('the len of the score for sandmouse data is ',len(get_score(sandmouse_data)))\n",
    "# print('the len of the score for random data is ',len(get_score(random_data)))"
   ]
  },
  {
   "cell_type": "markdown",
   "metadata": {},
   "source": [
    "Now that I obtain a list of score for the pathogen/random and the sandmouse I want to plot histograms to see the distribution of the different data set and see how random and sandmouse overlap (or no) with the pathogen data set"
   ]
  },
  {
   "cell_type": "code",
   "execution_count": 9,
   "metadata": {
    "scrolled": true
   },
   "outputs": [
    {
     "data": {
      "image/png": "[encoded data removed]",
      "text/plain": [
       "<Figure size 432x288 with 1 Axes>"
      ]
     },
     "metadata": {
      "needs_background": "light"
     },
     "output_type": "display_data"
    }
   ],
   "source": [
    "#pathogen and random \n",
    "plt.hist(get_score(pathogen_data),bins=20, label='pathogen_data',density=True)\n",
    "plt.hist(get_score(random_data),bins=20, label='random_data',density=True)\n",
    "plt.legend(loc='upper right')\n",
    "plt.title('pathogen and random score distribution-What has been obtained by Moriaty')\n",
    "plt.show()\n"
   ]
  },
  {
   "cell_type": "markdown",
   "metadata": {},
   "source": [
    "This is very close to what moriaty obtained - and the reason those 2 scores distributions are quite clearly separated is that he compared the pathogen data to a random data and not to the sandmouse data\n",
    "Lets see if the score method he implemted can help us to distinguish between pathogen and sandmouse "
   ]
  },
  {
   "cell_type": "code",
   "execution_count": 10,
   "metadata": {
    "scrolled": false
   },
   "outputs": [
    {
     "data": {
      "image/png": "[encoded data removed]",
      "text/plain": [
       "<Figure size 432x288 with 1 Axes>"
      ]
     },
     "metadata": {
      "needs_background": "light"
     },
     "output_type": "display_data"
    }
   ],
   "source": [
    "\n",
    "plt.hist(get_score(pathogen_data),bins=20,label='pathogen_data',density=True)\n",
    "plt.hist(get_score(sandmouse_data),bins=20,label='sandmouse',density=True)\n",
    "plt.legend(loc='upper right')\n",
    "plt.title('pathogen and sandmouse score distribution')\n",
    "plt.show()"
   ]
  },
  {
   "cell_type": "markdown",
   "metadata": {},
   "source": [
    "In this case, the separation between the 2 data set is not as obvious- \n",
    "Lets use a ROC curve to actually investigate how good this score method discriminate between pathogen and sandmouse- \n",
    "to obtain the roc plot I have to get the sensitivity and the FPR at different thresholds - \n",
    "From the plot we can see that the minimum values for all 3 is above 0 so I will use 0 as the minimum threshold and vary the threshold up to the max value that the scores can take.  "
   ]
  },
  {
   "cell_type": "code",
   "execution_count": 11,
   "metadata": {},
   "outputs": [],
   "source": [
    "# maximum scores across both pathogene and sandmouse data and random\n",
    "max_score_sand_pathogen = max(max(get_score(pathogen_data)),max(get_score(sandmouse_data)))\n",
    "max_score_random_pathogen = max(max(get_score(pathogen_data)),max(get_score(random_data)))\n",
    "#since max_score_random_pathogen and max_score_sand_pathogen are the same lets only use one for the next steps \n",
    "max_score_1= max_score_random_pathogen "
   ]
  },
  {
   "cell_type": "markdown",
   "metadata": {},
   "source": [
    "now I will vary the threshold and get a sensitivity and 1-specificity for each of the threshold\n",
    "\n",
    "- if we are looking at sand mouse - score_set_1:\n",
    "\n",
    "\n",
    "        - if the score obtained is higher or equal to the threshold then its a TRUE POSITIVE\n",
    "    \n",
    "        - if the score obtained is lower to the threshold then its a FALSE NEGATIVE\n",
    "\n",
    "- if we are looking at the comparaison data ( sandmouse or random )-  score_set_2:\n",
    "    \n",
    "    \n",
    "    -if the score obtain is higher or equal to the threshold then its FALSE POSTIVIE\n",
    "    \n",
    "    \n",
    "    -if the score obtained is lower to the threshold then its a TRUE NEGATIVE\n",
    "\n",
    "I did a count for each invididual threshold and appended the score to TP/FP/TN/FN\n",
    "Now that I have an array containing the TP/FP/TN/FN for each threshold I can caluclate the \n",
    "- sensitivity \n",
    "- 1-specificity \n",
    "\n",
    "FOR EACH THRESHOLD \n",
    "\n",
    "the function returns - 6 arrays -\n",
    "\n",
    "sensitivity, FPR,threshold_scores,FP,TP\n",
    "\n"
   ]
  },
  {
   "cell_type": "code",
   "execution_count": 12,
   "metadata": {},
   "outputs": [],
   "source": [
    "def get_sensitivities_RPR(score_set_1,score_set_2,max_score,step=1,min_score=0): \n",
    "    \n",
    "    threshold_scores=np.arange(min_score,max_score,step) #making the step smaller will take a smaller time to run so I chose step=1 because the obtained ROC curves are reasonable \n",
    "    # # set up \n",
    "    TP = []\n",
    "    FP = []\n",
    "    TN = []\n",
    "    FN = []\n",
    "    for threshold in threshold_scores: #loop over all the threshold we want to test for \n",
    "        TP_count=0 #reintialize the counts for each new threshold\n",
    "        FN_count=0\n",
    "        FP_count=0\n",
    "        TN_count=0\n",
    "\n",
    "        for score in score_set_1: #go through all the scores of pathogene_data\n",
    "            if score >= threshold :\n",
    "                TP_count = TP_count +1\n",
    "            elif score < threshold :\n",
    "                FN_count=FN_count+1\n",
    "        for score in score_set_2: #go through all the scores of comparaison(which will later be either sand or random data)\n",
    "            if score >= threshold :\n",
    "                FP_count= FP_count+1\n",
    "            elif score < threshold :\n",
    "                TN_count = TN_count +1\n",
    "        TP.append(TP_count)  #for each threshold add the corresponding  TP/FP/TN/FN Count  to the TP    \n",
    "        FP.append(FP_count)\n",
    "        TN.append(TN_count)\n",
    "        FN.append(FN_count)\n",
    "\n",
    "    TP = np.array(TP)\n",
    "    FP = np.array(FP)\n",
    "    TN = np.array(TN)\n",
    "    FN = np.array(FN)\n",
    "    sensitivity = (TP/(TP+FN))  #this is an array containing the sensitivity for each one of the threshold  \n",
    "    FPR = (1-(TN/(TN+FP)))  \n",
    "    return(sensitivity, FPR,threshold_scores,FP,TP,TN,FN)\n"
   ]
  },
  {
   "cell_type": "markdown",
   "metadata": {},
   "source": [
    "lets get the roc plot for the pathogen/sandmouse data - do to do so I run the function get_sensitivities_RPR\n",
    "the arrays sensitivity_SM,FPR_SM are the used for the ROC curve"
   ]
  },
  {
   "cell_type": "code",
   "execution_count": 13,
   "metadata": {},
   "outputs": [],
   "source": [
    "\n",
    "(sensitivity_SM,FPR_SM,threshold,FP,TP,TN,FN)=get_sensitivities_RPR(score_set_1=get_score(pathogen_data),score_set_2=get_score(sandmouse_data),max_score=max_score_1) #get output of the function \n",
    "#assign output of function to varaibles to be able to plot the graph\n"
   ]
  },
  {
   "cell_type": "code",
   "execution_count": 14,
   "metadata": {
    "scrolled": true
   },
   "outputs": [
    {
     "data": {
      "image/png": "[encoded data removed]",
      "text/plain": [
       "<Figure size 432x288 with 1 Axes>"
      ]
     },
     "metadata": {
      "needs_background": "light"
     },
     "output_type": "display_data"
    },
    {
     "name": "stdout",
     "output_type": "stream",
     "text": [
      "the area under the curve is  0.49827809\n"
     ]
    }
   ],
   "source": [
    "#I compare stand and pathogene and not pathogene vs random \n",
    "Area_under_curve_SM=metrics.auc(FPR_SM,sensitivity_SM)\n",
    "plt.plot(FPR_SM,sensitivity_SM)\n",
    "plt.ylabel('sensitivity')\n",
    "plt.xlabel('FPR(1-specificity)')\n",
    "plt.title('ROC- pathogen/sandmouse data')\n",
    "plt.show()\n",
    "print('the area under the curve is ',Area_under_curve_SM)\n"
   ]
  },
  {
   "cell_type": "markdown",
   "metadata": {},
   "source": [
    "This ROC is showing that the moriaty results are bias \n",
    "when we take pathogen and sandmouse data I obtained a ROC that is showing that the model (the score model moriaty used)\n",
    "is not good as distingushing pathogen from sandmouse \n",
    "the reason I can affirm that is that the plot obtained is nearly a line that goes to the origin with a slope of 1.\n",
    "and the area under the curve is 0.5\n",
    "A 'ideal' ROC is shown bellow(the one actually used by Moritaty)\n",
    "But the reason its Bias is that he tried to discriminate betwwen random and pathogen instead of pathogen and sandmouse"
   ]
  },
  {
   "cell_type": "code",
   "execution_count": 15,
   "metadata": {
    "scrolled": true
   },
   "outputs": [],
   "source": [
    "(sensitivity_Random,false_positive_rate_Random,threshold,FP,TP,TN,FN)=get_sensitivities_RPR(score_set_1=get_score(pathogen_data),score_set_2=get_score(random_data),max_score=max_score_1)"
   ]
  },
  {
   "cell_type": "code",
   "execution_count": 16,
   "metadata": {},
   "outputs": [
    {
     "data": {
      "image/png": "[encoded data removed]",
      "text/plain": [
       "<Figure size 432x288 with 1 Axes>"
      ]
     },
     "metadata": {
      "needs_background": "light"
     },
     "output_type": "display_data"
    },
    {
     "name": "stdout",
     "output_type": "stream",
     "text": [
      "the area under the curve is  0.49827809\n"
     ]
    }
   ],
   "source": [
    "Area_under_curve_Random=metrics.auc(FPR_SM,sensitivity_SM)\n",
    "plt.plot(false_positive_rate_Random,sensitivity_Random)\n",
    "plt.ylabel('sensitivity')\n",
    "plt.xlabel('FPR(1-specificity)')\n",
    "plt.title('ROC -pathogen/random data-Reproducing Moriaty')\n",
    "plt.show()\n",
    "print('the area under the curve is ',Area_under_curve_Random)"
   ]
  },
  {
   "cell_type": "markdown",
   "metadata": {},
   "source": [
    "# 2  make your own method"
   ]
  },
  {
   "cell_type": "markdown",
   "metadata": {},
   "source": [
    "step0 -split the data in 2"
   ]
  },
  {
   "cell_type": "code",
   "execution_count": 17,
   "metadata": {},
   "outputs": [],
   "source": [
    "#spliting the data in half and mix \n",
    "np.random.seed(3)\n",
    "np.random.shuffle(pathogen_data)\n",
    "np.random.shuffle(sandmouse_data)\n",
    "pathogen_data_training = pathogen_data[:5000]\n",
    "pathogen_data_testing= pathogen_data[5000:]\n",
    "sandmouse_data_training = sandmouse_data[:5000]\n",
    "sandmouse_data_testing= sandmouse_data[5000:]\n",
    "\n",
    "#check\n",
    "#pathogen_data_training[0]"
   ]
  },
  {
   "cell_type": "markdown",
   "metadata": {},
   "source": [
    " step 1\n",
    " - How many distincts 3-mers and 2-mers are possible in this dataset? - we have 4 options(ATCG)\n",
    " \n",
    "    so the number of 2 mers possibles are :4^2 - 16\n",
    "    \n",
    "    so the number of 3 mers possibles are :4^3 - 64\n",
    "        "
   ]
  },
  {
   "cell_type": "code",
   "execution_count": 18,
   "metadata": {},
   "outputs": [],
   "source": [
    "possible_2kmers=list(product('ATCG', repeat=2))# this is the list of all possible 2kMers that can be form using the 4 nucelotides(ATCG0)\n",
    "possible_3kmers=list(product('ATCG', repeat=3))# this is the list of all possible 3kMers that can be form using the 4 nucelotides(ATCG0)"
   ]
  },
  {
   "cell_type": "code",
   "execution_count": 19,
   "metadata": {},
   "outputs": [],
   "source": [
    "#check \n",
    "#print(len(possible_2kmers)) #Expect 16\n",
    "#print(len(possible_3kmers)) #Expect 64"
   ]
  },
  {
   "cell_type": "markdown",
   "metadata": {},
   "source": [
    "step 2 - for each training data -obtain the frequency(will be used later to approximate the probablities)\n",
    "\n",
    "\n",
    "so first I create 4 for counts lists\n",
    "\n",
    "- 2kmers in pathogen- twomer_counts_pathogen\n",
    "- 2 kmers in sandmouse -twomer_counts_sandmouse\n",
    "\n",
    "- 3kmer in pathogen - threemer_counts_pathogen \n",
    "- 3 kmer in sand mouse -threemer_counts_sandmouse\n",
    "\n",
    "I then converted the values to frequency(by dividing each element by the sum of the elements in that array)\n"
   ]
  },
  {
   "cell_type": "code",
   "execution_count": 20,
   "metadata": {
    "scrolled": true
   },
   "outputs": [],
   "source": [
    "#initialization\n",
    "twomer_counts_pathogen = np.zeros(len(possible_2kmers))\n",
    "twomer_counts_sandmouse = np.zeros(len(possible_2kmers))\n",
    "threemer_counts_pathogen = np.zeros(len(possible_3kmers))\n",
    "threemer_counts_sandmouse = np.zeros(len(possible_3kmers))\n",
    "\n",
    "for sequence in pathogen_data_training: #going through all sequences of the pathogen_data_training\n",
    "    for i in range(0,(len(sequence)-1)): #i is the index of the nucleotide\n",
    "        two_kmer=sequence[i],sequence[i+1] \n",
    "        i=possible_2kmers.index(two_kmer) # possible_2kmers.index(twokmer) returns the index of the current element(twokmer) in the list possible_2kmers\n",
    "        twomer_counts_pathogen[i] = twomer_counts_pathogen[i] + 1 #update twomer_counts_pathogen of this corresponding index\n",
    "\n",
    "    for i in range(0,(len(sequence)-2)): #same principle 3 kmer \n",
    "        three_kmer=sequence[i],sequence[i+1],sequence[i+2]\n",
    "        i=possible_3kmers.index(three_kmer) \n",
    "        threemer_counts_pathogen [i] = threemer_counts_pathogen [i] + 1 \n",
    "\n",
    "\n",
    "\n",
    "for sequence in sandmouse_data_training: #going through all sequences of the sandmouse_data_training and repeating a similar process\n",
    "    for i in range(0,(len(sequence)-1)):\n",
    "            two_kmer=sequence[i],sequence[i+1]\n",
    "            i=possible_2kmers.index(two_kmer) \n",
    "            twomer_counts_sandmouse[i] = twomer_counts_sandmouse[i] + 1 \n",
    "    for i in range(0,(len(sequence)-2)):\n",
    "        three_kmer=sequence[i],sequence[i+1],sequence[i+2]\n",
    "        i=possible_3kmers.index(three_kmer) \n",
    "        threemer_counts_sandmouse [i] = threemer_counts_sandmouse [i] + 1 \n",
    "        \n",
    "#from counts to frequencies        \n",
    "        \n",
    "\n",
    "two_frequency_pathogen = [float(i)/sum(twomer_counts_pathogen) for i in twomer_counts_pathogen]\n",
    "three_frequency_pathogen = [float(i)/sum(threemer_counts_pathogen) for i in threemer_counts_pathogen]\n",
    "two_frequency_sandmouse= [float(i)/sum(twomer_counts_sandmouse) for i in twomer_counts_sandmouse]\n",
    "three_frequency_sandmouse = [float(i)/sum(threemer_counts_sandmouse) for i in threemer_counts_sandmouse]\n",
    "\n",
    "\n",
    "\n"
   ]
  },
  {
   "cell_type": "code",
   "execution_count": null,
   "metadata": {},
   "outputs": [],
   "source": []
  },
  {
   "cell_type": "code",
   "execution_count": 21,
   "metadata": {
    "scrolled": true
   },
   "outputs": [],
   "source": [
    "#check\n",
    "# print(len(two_frequency_pathogen)) #expect 16\n",
    "# print(len(three_frequency_pathogen))\n",
    "# print(len(two_frequency_sandmouse))\n",
    "# print(len(three_frequency_sandmouse))\n",
    "\n",
    "\n",
    "# print(two_frequency_pathogen[0:10])\n",
    "# print(three_frequency_pathogen[0:10])\n",
    "# print(two_frequency_sandmouse[0:10])\n",
    "# print(three_frequency_sandmouse[0:10])\n",
    "\n",
    "# print(possible_3kmers)\n",
    "# print(threemer_counts_pathogen)"
   ]
  },
  {
   "cell_type": "markdown",
   "metadata": {},
   "source": [
    "creation of 4 dictionary - easier for the next part and keep track what i am doing \n",
    "2 for pathogene 2 for sandmouse \n",
    "in each of the dictionary\n",
    "where the key is the kmer and the value is its corresponding frequency(or probability)\n",
    "\n",
    "-- dict_sm_2 \n",
    "\n",
    "-- dict_sm_3\n",
    "\n",
    "-- dict_path_2\n",
    "\n",
    "-- dict_path_3 "
   ]
  },
  {
   "cell_type": "code",
   "execution_count": 22,
   "metadata": {},
   "outputs": [],
   "source": [
    "#redifine possible_2kmers and possible_3kmers - easier to access elements in the next steps\n",
    "possible_2kmers=list(''.join(prod) for prod in (product('ATCG', repeat=2)))\n",
    "possible_3kmers=list(''.join(prod) for prod in (product('ATCG', repeat=3)))\n",
    "#redine to access\n",
    "dict_sm_2 = dict(zip(possible_2kmers, two_frequency_sandmouse))\n",
    "dict_sm_3 = dict(zip(possible_3kmers, three_frequency_sandmouse))    \n",
    "dict_path_2 = dict(zip(possible_2kmers, two_frequency_pathogen))\n",
    "dict_path_3 = dict(zip(possible_3kmers, three_frequency_pathogen))   \n"
   ]
  },
  {
   "cell_type": "code",
   "execution_count": 23,
   "metadata": {},
   "outputs": [],
   "source": [
    "#check \n",
    "#dict_sm_2"
   ]
  },
  {
   "cell_type": "markdown",
   "metadata": {},
   "source": [
    "now probablity dictionaries - for example if we want p(G|AA) = P(AAG)/p(AA)\n",
    "lets first create the conditional probablities for pathogene(same process will be repeated for sandmouse)"
   ]
  },
  {
   "cell_type": "code",
   "execution_count": 24,
   "metadata": {},
   "outputs": [],
   "source": [
    "# get the conditional probability for the pathogen \n",
    "path_probabilities={} #initialize \n",
    "path_conditional_prob_keys=[] \n",
    "path_conditional_prob_values=[]\n",
    "size_possible_3kmers=len(dict_path_3.keys())\n",
    "\n",
    "for i in range(0,size_possible_3kmers): #go through all the keys (All possible 3kmers) - i is the index of the possible 3kmers\n",
    "    \n",
    "    key_3_kmer=list(dict_path_3.keys())[i] #key_3_kmer is the current 3kmer having an index i in the dict_path_3 dictionary\n",
    "    frequency_3_kmer=list(dict_path_3.values())[i] #key_3_kmer is the current 3kmer value(which correspond to the frequency)\n",
    "    two_first_kmer=key_3_kmer[0:2] #this is the 2 first kmer that compose the 3_kmer(for example if the 3_kmer is AAG then two_first_kmer\n",
    "    #two_first_kmer is AA) - \n",
    "    \n",
    "    #next step i want to get the corresponding frequency of this 2kmers-two_first_kmer-( to do so i use dict_path_2)\n",
    "    two_first_kmer_frequency=dict_path_2.get((two_first_kmer))\n",
    "    \n",
    "    conditional_prob = frequency_3_kmer/two_first_kmer_frequency #because p(G|AA)=P(AAG)/p(AA)\n",
    "    path_conditional_prob_keys.append(str(key_3_kmer)+ \"|\"+str(two_first_kmer)) #append the path_conditional_prob_keys list \n",
    "    path_conditional_prob_values.append(conditional_prob) #append the conditional probablity \n",
    "    \n",
    "                                             \n",
    "path_probabilities= dict(zip(path_conditional_prob_keys, path_conditional_prob_values)) #dictionary of pathogen conditional proablities obtained by zipping the 2 lists"
   ]
  },
  {
   "cell_type": "code",
   "execution_count": 25,
   "metadata": {},
   "outputs": [],
   "source": [
    "#check\n",
    "#path_probabilities"
   ]
  },
  {
   "cell_type": "code",
   "execution_count": 26,
   "metadata": {},
   "outputs": [],
   "source": [
    "# get the conditional probability for the sandmouse - same process as dor pathogen\n",
    "sm_probabilities={}\n",
    "sm_conditional_prob_keys=[]\n",
    "sm_conditional_prob_values=[]\n",
    "size_possible_3kmers=len(dict_sm_3.keys())\n",
    "for i in range(0,size_possible_3kmers):\n",
    "    key_3_kmer=list(dict_sm_3.keys())[i] \n",
    "    frequency_3_kmer=list(dict_sm_3.values())[i] \n",
    "    \n",
    "    two_first_kmer=key_3_kmer[0:2] \n",
    "    two_first_kmer_frequency=dict_sm_2.get((two_first_kmer))\n",
    "    conditional_prob = frequency_3_kmer/two_first_kmer_frequency #because p(G|AA)=P(AAG)/p(AA)\n",
    "    sm_conditional_prob_keys.append(str(key_3_kmer)+ \"|\"+str(two_first_kmer))\n",
    "    sm_conditional_prob_values.append(conditional_prob)\n",
    "                                             \n",
    "sm_probabilities= dict(zip(sm_conditional_prob_keys, sm_conditional_prob_values))"
   ]
  },
  {
   "cell_type": "code",
   "execution_count": 27,
   "metadata": {},
   "outputs": [],
   "source": [
    "#check\n",
    "#sm_probabilities"
   ]
  },
  {
   "cell_type": "markdown",
   "metadata": {},
   "source": [
    "# Test the model's performance on the testing set"
   ]
  },
  {
   "cell_type": "markdown",
   "metadata": {},
   "source": [
    "the next chunk(the commented one is just a demo of how I access conditional proablities given a two kmer and a 3kmer)"
   ]
  },
  {
   "cell_type": "code",
   "execution_count": 28,
   "metadata": {
    "scrolled": true
   },
   "outputs": [],
   "source": [
    "#get the proba of the initial sequence of the first sequence of the pathogen_data_testing\n",
    "# test_2k=(pathogen_data_testing[0][0:2])\n",
    "# print(test_2k)\n",
    "# test_3k=(pathogen_data_testing[0][0:3])\n",
    "# print(test_3k)\n",
    "# print('path_probabilities.get(str(test_3k)+ \"|\"+str(test_2k)))"
   ]
  },
  {
   "cell_type": "markdown",
   "metadata": {},
   "source": [
    "now what I want to do is obtain a list of LLM for the pathogene testing set and a list of LLM for the sandmouse testing set \n",
    "\n",
    "\n",
    "First for the pathogen what are LLM? \n",
    "-what is important to understand is that there will be as much as LLM as sequence that we want to test - here since we splited the data in half the LLM will be 5000 \n",
    "\n",
    "-now lets only focus on the first sequence \n",
    "\n",
    "LLM =  LOG(  P(sequence1 | from pathogen)     /     P(sequence1 | from sandmouse) ) )\n",
    "\n",
    "\n",
    "Ok but what is P(sequence1)? -- lets use a the i.i.d. sequence model to estimate P(sequence1)\n",
    "\n",
    "for simplicity say that sequence1 is AACG \n",
    "then P(sequence1) given a 2nd order markov process can be expressed as :\n",
    "\n",
    "p(AA)*P(C|AA)*P(G|AC)\n",
    "\n",
    "p(AA) is the inital probability - for the numerator i access that using the dictionary dict_path_2(which contain the proabblity of the pathogen 2kmers)\n",
    "\n",
    "and P(C|AA) and P(G|AC)for the numerator i access that using the dictionary path_probabilities are conditional probablity for pathogen\n",
    "\n",
    "\n",
    "now for the denimotator I do something similar but instead of \n",
    "for p(AA) I use  dict_sm_2\n",
    "and for P(C|AA) and P(G|AC) I use sm_probabilities.get\n",
    "\n",
    "\n",
    "ALSO log(A/B) =log(A)-log(B) - so  LLM for sequence 1 is = LOG(  P(sequence1 | from pathogen) )  -P(sequence1 | from sandmouse)\n",
    "\n",
    "and log(A*B)= log(A)+log(B) - So log(p(AA)*P(C|AA)*P(G|AC)) is the addition of the log of each probability\n",
    "\n"
   ]
  },
  {
   "cell_type": "code",
   "execution_count": 29,
   "metadata": {},
   "outputs": [],
   "source": [
    "\n",
    "#def get the LLM for the pathogen testing set \n",
    "        \n",
    "LLM_reccords_pathogen=[] #initialize the array that will store the LLM score for the pathogen\n",
    "for sequence in pathogen_data_testing : #go through the pathogen dataset\n",
    "    \n",
    "    initial_proba_seq_log_path =np.log(dict_path_2.get(sequence[0:2]))  #since its a second order Markov process the initial probablities cant be conditional proabilities -\n",
    "    #so for the first 2 nucelotide I used dict_path_2.get (which contains the proba for the 2kmers)\n",
    "    #and then i took the log of it \n",
    "    \n",
    "    proba_data_pathogen=[] #reinitalize \n",
    "    initial_proba_seq_log_sm =np.log(dict_sm_2.get(sequence[0:2]))\n",
    "    proba_data_sandmouse=[] #reinitalize \n",
    "    \n",
    "    for position_index in range(2,len(sequence)-2):\n",
    "        twokmer=sequence[(position_index-2):position_index]\n",
    "        treekmer=sequence[(position_index-2):position_index+1]\n",
    "        \n",
    "        proba_path=path_probabilities.get(str(treekmer)+ \"|\"+str(twokmer)) #this is the conditional proba\n",
    "        proba_sm=sm_probabilities.get(str(treekmer)+ \"|\"+str(twokmer)) \n",
    "        proba_data_pathogen.append(proba_path)\n",
    "        proba_data_sandmouse.append(proba_sm)\n",
    "\n",
    "    log_condtional_proba_pathogen=sum(np.log(proba_data_pathogen))#log of each proba\n",
    "    score_sequence_pathogen_1=(initial_proba_seq_log_path + log_condtional_proba_pathogen) \n",
    "\n",
    "    log_condtional_proba_sandmouse=sum(np.log(proba_data_sandmouse))#log of each proba\n",
    "    score_sequence_sandmouse_1=initial_proba_seq_log_sm + log_condtional_proba_sandmouse#append a score for each sequence\n",
    "\n",
    "    LLM_1 = score_sequence_pathogen_1-score_sequence_sandmouse_1 \n",
    "    LLM_reccords_pathogen.append(float(LLM_1))#append a score for each sequence\n"
   ]
  },
  {
   "cell_type": "code",
   "execution_count": 30,
   "metadata": {},
   "outputs": [],
   "source": [
    "#np.sort(LLM_reccords_pathogen)"
   ]
  },
  {
   "cell_type": "markdown",
   "metadata": {},
   "source": [
    "now we go through th sandmouse testing data set and do a similar process"
   ]
  },
  {
   "cell_type": "code",
   "execution_count": 31,
   "metadata": {},
   "outputs": [],
   "source": [
    "LLM_reccords_sm=[]    \n",
    "for sequence in sandmouse_data_testing :\n",
    "    \n",
    "    initial_proba_seq_log_sm =np.log(dict_sm_2.get(sequence[0:2]))  #dict_sm_2.getcontains the proba for the 2kmers\n",
    "    proba_data_sandmouse=[] #reinitalize \n",
    "    \n",
    "    initial_proba_seq_log_pathogen =np.log(dict_path_2.get(sequence[0:2]))\n",
    "    proba_data_pathogen=[] #reinitalize \n",
    "    \n",
    "    for position_index in range(2,len(sequence)-2):\n",
    "        twokmer=sequence[(position_index-2):position_index]\n",
    "        treekmer=sequence[(position_index-2):position_index+1]\n",
    "        \n",
    "        proba_sm=sm_probabilities.get(str(treekmer)+ \"|\"+str(twokmer))\n",
    "        proba_data_sandmouse.append(proba_sm)\n",
    "        \n",
    "        proba_path=path_probabilities.get(str(treekmer)+ \"|\"+str(twokmer)) #this is the conditional proba\n",
    "        proba_data_pathogen.append(proba_path)\n",
    "        \n",
    "    log_condtional_proba_pathogen=sum(np.log(proba_data_pathogen))#sum of the log of each proba\n",
    "    score_sequence_pathogen_2=(initial_proba_seq_log_path + log_condtional_proba_pathogen) \n",
    "\n",
    "    log_condtional_proba_sandmouse=sum(np.log(proba_data_sandmouse))#log of each proba\n",
    "    score_sequence_sandmouse_2=initial_proba_seq_log_sm + log_condtional_proba_sandmouse#append a score for each sequence\n",
    "\n",
    "    LLM_2 = score_sequence_pathogen_2 - score_sequence_sandmouse_2\n",
    "    LLM_reccords_sm.append(float(LLM_2))#append a score for each sequence\n",
    "        "
   ]
  },
  {
   "cell_type": "code",
   "execution_count": 32,
   "metadata": {},
   "outputs": [],
   "source": [
    "#check\n",
    "# print(len(LLM_reccords_pathogen))\n",
    "# print(len(LLM_reccords_sm))"
   ]
  },
  {
   "cell_type": "markdown",
   "metadata": {},
   "source": [
    "same process as part 1 of the pset -alpha=0.5 is used to be able to better vizualize the overlap "
   ]
  },
  {
   "cell_type": "code",
   "execution_count": 33,
   "metadata": {},
   "outputs": [
    {
     "data": {
      "image/png": "[encoded data removed]",
      "text/plain": [
       "<Figure size 432x288 with 1 Axes>"
      ]
     },
     "metadata": {
      "needs_background": "light"
     },
     "output_type": "display_data"
    }
   ],
   "source": [
    "plt.hist(LLM_reccords_pathogen,bins=20,alpha=0.5,label='pathogen_data',density=True)\n",
    "plt.hist(LLM_reccords_sm,bins=20,alpha=0.5, label='sandmouse_data',density=True)\n",
    "plt.legend(loc='upper right')\n",
    "plt.title('Log ratio distribution for pathogen and SM')\n",
    "plt.show()"
   ]
  },
  {
   "cell_type": "code",
   "execution_count": 34,
   "metadata": {},
   "outputs": [],
   "source": [
    "max_score_Markov =max(max(LLM_reccords_pathogen),max(LLM_reccords_sm))\n",
    "min_score_Markov =min(min(LLM_reccords_pathogen),min(LLM_reccords_sm))"
   ]
  },
  {
   "cell_type": "markdown",
   "metadata": {},
   "source": [
    "if the next step is taking too long to run - reduce the parameter step (explaining why bellow)"
   ]
  },
  {
   "cell_type": "code",
   "execution_count": 35,
   "metadata": {},
   "outputs": [],
   "source": [
    "sensitivity_Markov,false_positive_rate_Markov,thresholds,FP_Markov,TP_Markov,TN_Markov,FN_Markov=get_sensitivities_RPR(score_set_1=LLM_reccords_pathogen,\n",
    "                                                                                                            score_set_2=LLM_reccords_sm,\n",
    "                                                                                                            min_score=min_score_Markov,\n",
    "                                                                                                            max_score=max_score_Markov,\n",
    "                                                                                                            step=0.01)\n",
    "                                                                                    \n"
   ]
  },
  {
   "cell_type": "code",
   "execution_count": null,
   "metadata": {},
   "outputs": [],
   "source": []
  },
  {
   "cell_type": "code",
   "execution_count": 36,
   "metadata": {
    "scrolled": false
   },
   "outputs": [
    {
     "name": "stdout",
     "output_type": "stream",
     "text": [
      "The Area_under_curve is , 0.9689431199999999\n"
     ]
    },
    {
     "data": {
      "image/png": "[encoded data removed]",
      "text/plain": [
       "<Figure size 432x288 with 1 Axes>"
      ]
     },
     "metadata": {
      "needs_background": "light"
     },
     "output_type": "display_data"
    }
   ],
   "source": [
    "Area_under_curve_Markov=metrics.auc(false_positive_rate_Markov,sensitivity_Markov)\n",
    "plt.plot(false_positive_rate_Markov,sensitivity_Markov)\n",
    "plt.ylabel('sensitivity')\n",
    "plt.xlabel('FPR(1-specificity)')\n",
    "plt.xlim(0,1)\n",
    "plt.ylim(0,1)\n",
    "plt.title('ROC curve for 2nd-order Markov model method')\n",
    "print(\"The Area_under_curve is ,\",Area_under_curve_Markov)"
   ]
  },
  {
   "cell_type": "markdown",
   "metadata": {},
   "source": [
    "For this ROC curve - the area under the curve is 0.96\n",
    "It SEEMS like the i.i.d. sequence model and 2nd order markov model is way better at discriminating the 2 data set compared to the Method moriaty used (where the area under the curve was approximately 0.5) "
   ]
  },
  {
   "cell_type": "markdown",
   "metadata": {},
   "source": [
    "# 3 -how good is your method?"
   ]
  },
  {
   "cell_type": "markdown",
   "metadata": {},
   "source": [
    "I want to achieve 90% sensitivity - first lets \"crop the graph\" "
   ]
  },
  {
   "cell_type": "code",
   "execution_count": 37,
   "metadata": {
    "scrolled": true
   },
   "outputs": [
    {
     "data": {
      "text/plain": [
       "(0, 1)"
      ]
     },
     "execution_count": 37,
     "metadata": {},
     "output_type": "execute_result"
    },
    {
     "data": {
      "image/png": "[encoded data removed]",
      "text/plain": [
       "<Figure size 432x288 with 1 Axes>"
      ]
     },
     "metadata": {
      "needs_background": "light"
     },
     "output_type": "display_data"
    }
   ],
   "source": [
    "plt.title('ROC curve for 2nd-order Markov model method')\n",
    "plt.plot(false_positive_rate_Markov,sensitivity_Markov)\n",
    "plt.ylabel('sensitivity')\n",
    "plt.xlabel('FPR(1-specificity)')\n",
    "plt.ylim(0, 0.9)\n",
    "plt.xlim(0,1)\n"
   ]
  },
  {
   "cell_type": "markdown",
   "metadata": {},
   "source": [
    "To which  threshold those the 90% sensitivity correspond? \n",
    "Do to find this information first have to find what is the index of the senstivity 0.9(or the closest one possible) in the sensity_markov array(the one returned by the function)\n",
    "\n",
    "please note that the smallest the step is in the function get_sensitivities_RPR - the closer to 0.9 the senstivity returned by the function find_nearest_sensitivity will be.\n",
    "I chose a step=0.01 (and therfore obtaining a sensitivity very close to 0.9) \n",
    "but I left this parameter variable in my function - so please feel free to reduce the step if its taking too long to run but it shouldnt  "
   ]
  },
  {
   "cell_type": "code",
   "execution_count": 38,
   "metadata": {},
   "outputs": [],
   "source": [
    "def find_nearest_sensitivity(array=sensitivity_Markov, value=0.9):\n",
    "    array = np.asarray(array)\n",
    "    index = (np.abs(array - value)).argmin()\n",
    "    return array[index],index\n",
    "\n"
   ]
  },
  {
   "cell_type": "markdown",
   "metadata": {},
   "source": [
    "using the index of the nearest 90% sensibility i can have acces to the corresponding FDR and threshold "
   ]
  },
  {
   "cell_type": "code",
   "execution_count": 39,
   "metadata": {
    "scrolled": true
   },
   "outputs": [
    {
     "name": "stdout",
     "output_type": "stream",
     "text": [
      "sensitivity 0.9002\n",
      "The corresponding FPR is 0.09060000000000001\n",
      "The corresponding threshold 0.4915768750482137\n"
     ]
    }
   ],
   "source": [
    "(value_of_sensitivity,index_of_90sensitivity)=find_nearest_sensitivity(array=sensitivity_Markov, value=0.9)\n",
    "print('sensitivity',value_of_sensitivity)\n",
    "false_positive_rate_90sensitivity=false_positive_rate_Markov[index_of_90sensitivity]\n",
    "print('The corresponding FPR is',false_positive_rate_90sensitivity)\n",
    "threshold_90sensitivity=thresholds[index_of_90sensitivity]\n",
    "print('The corresponding threshold',threshold_90sensitivity)"
   ]
  },
  {
   "cell_type": "markdown",
   "metadata": {},
   "source": [
    "Up to this point we assumed a uniform prior,which is not the case - the probablity of the hypothesis -mouse is more likely then the hypothesis pathogen\n",
    "(99%mouse vs 1% pathogen)-"
   ]
  },
  {
   "cell_type": "code",
   "execution_count": 40,
   "metadata": {
    "scrolled": true
   },
   "outputs": [
    {
     "name": "stdout",
     "output_type": "stream",
     "text": [
      "the false discovery rate is  0.9087906298127584\n"
     ]
    }
   ],
   "source": [
    "#FDR =(FP)/((TP) + (FP)) - but there is 99%mouse , 1% pathogen \n",
    "FDR_Markov = (FP_Markov* .99)/((TP_Markov * .01) + (FP_Markov * .99))\n",
    "print('the false discovery rate is ',FDR_Markov[index_of_90sensitivity])"
   ]
  },
  {
   "cell_type": "markdown",
   "metadata": {},
   "source": [
    "# not in the pset - just further exploration"
   ]
  },
  {
   "cell_type": "markdown",
   "metadata": {},
   "source": [
    "The FDR obtained above is very high - what if we want to reduce it - what will be the corresponding sensitivity- "
   ]
  },
  {
   "cell_type": "code",
   "execution_count": 41,
   "metadata": {},
   "outputs": [],
   "source": [
    "#this is the same function i just changed the name for clarification \n",
    "#how can we acheive a FDR of 10 % \n",
    "def find_nearest_FDR(array=FDR_Markov, value=0.1):\n",
    "    array = np.asarray(array)\n",
    "    index = (np.abs(array - value)).argmin()\n",
    "    return array[index],index"
   ]
  },
  {
   "cell_type": "code",
   "execution_count": 42,
   "metadata": {},
   "outputs": [
    {
     "name": "stdout",
     "output_type": "stream",
     "text": [
      "FDR 0.5003743916136278\n",
      "the corresponding sensitivity  0.5338\n"
     ]
    }
   ],
   "source": [
    "(value_of_FDR,index_of_FDR50)=find_nearest_sensitivity(array=FDR_Markov,  value=0.5)\n",
    "print('FDR',value_of_FDR)\n",
    "sensitivity_FDR50 = (TP_Markov[index_of_FDR50]/(TP_Markov[index_of_FDR50]+FN_Markov[index_of_FDR50]))\n",
    "print('the corresponding sensitivity ',sensitivity_FDR50)\n",
    "#false_positive_rate_FDR50=false_positive_rate_Markov[index_of_FDR50]\n",
    "#print('The corresponding FPR is',false_positive_rate_90sensitivity)\n"
   ]
  },
  {
   "cell_type": "code",
   "execution_count": 43,
   "metadata": {},
   "outputs": [
    {
     "name": "stdout",
     "output_type": "stream",
     "text": [
      "FDR 0.09989909182643794\n",
      "the corresponding sensitivity  0.1784\n"
     ]
    }
   ],
   "source": [
    "(value_of_FDR,index_of_FDR10)=find_nearest_sensitivity(array=FDR_Markov,  value=0.1)\n",
    "print('FDR',value_of_FDR)\n",
    "sensitivity_FDR10 = (TP_Markov[index_of_FDR10]/(TP_Markov[index_of_FDR10]+FN_Markov[index_of_FDR10]))\n",
    "print('the corresponding sensitivity ',sensitivity_FDR10)\n",
    "#false_positive_rate_FDR10=false_positive_rate_Markov[index_of_FDR10]\n",
    "#print('The corresponding FPR is',false_positive_rate_FDR10)"
   ]
  },
  {
   "cell_type": "code",
   "execution_count": 44,
   "metadata": {},
   "outputs": [
    {
     "data": {
      "text/plain": [
       "Text(0.5, 1.0, 'FDR vs Sensitivity')"
      ]
     },
     "execution_count": 44,
     "metadata": {},
     "output_type": "execute_result"
    },
    {
     "data": {
      "image/png": "[encoded data removed]",
      "text/plain": [
       "<Figure size 432x288 with 1 Axes>"
      ]
     },
     "metadata": {
      "needs_background": "light"
     },
     "output_type": "display_data"
    }
   ],
   "source": [
    "sensitivity_Markov=(TP_Markov/(TP_Markov+FN_Markov))\n",
    "#print(len(FDR_Markov))\n",
    "#print(len(sensitivity_Markov))\n",
    "plt.plot(sensitivity_Markov,FDR_Markov)\n",
    "plt.xlabel('sensitivity_Markov')\n",
    "plt.ylabel('FDR_Markov')\n",
    "plt.title('FDR vs Sensitivity')\n",
    "#the goal is to have a maximum sensitivity and a minim fdr - at which point in the graph this happens? "
   ]
  },
  {
   "cell_type": "markdown",
   "metadata": {},
   "source": [
    "Now lets create a new testing data with the corresponding probaility( represented in terms of size of the testing sample)"
   ]
  },
  {
   "cell_type": "code",
   "execution_count": 45,
   "metadata": {},
   "outputs": [],
   "source": [
    "#spliting the data in another way that is more representative of the population \n",
    "np.random.seed(3)\n",
    "np.random.shuffle(pathogen_data)\n",
    "np.random.shuffle(sandmouse_data)\n",
    "#pathogen_data_training_sample = pathogen_data[:]\n",
    "pathogen_data_testing_sample= pathogen_data[-20:] #last 20elements of the list \n",
    "#sandmouse_data_training = sandmouse_data[:5000]\n",
    "sandmouse_data_testing_sample= sandmouse_data[-1980:] #last 1980 elements of the list "
   ]
  },
  {
   "cell_type": "code",
   "execution_count": 46,
   "metadata": {},
   "outputs": [],
   "source": [
    "#def get the LLM for the pathogen testing set \n",
    "        \n",
    "LLM_reccords_pathogen_sample=[] #initialize the array that will store the LLM score for the pathogen\n",
    "for sequence in pathogen_data_testing_sample : #go through the pathogen dataset\n",
    "    \n",
    "    initial_proba_seq_log_path =np.log(dict_path_2.get(sequence[0:2]))  #since its a second order Markov process the initial probablities cant be conditional proabilities -\n",
    "    #so for the first 2 nucelotide I used dict_path_2.get (which contains the proba for the 2kmers)\n",
    "    #and then i took the log of it \n",
    "    \n",
    "    proba_data_pathogen=[] #reinitalize \n",
    "    initial_proba_seq_log_sm =np.log(dict_sm_2.get(sequence[0:2]))\n",
    "    proba_data_sandmouse=[] #reinitalize \n",
    "    \n",
    "    for position_index in range(2,len(sequence)-2):\n",
    "        twokmer=sequence[(position_index-2):position_index]\n",
    "        treekmer=sequence[(position_index-2):position_index+1]\n",
    "        \n",
    "        proba_path=path_probabilities.get(str(treekmer)+ \"|\"+str(twokmer)) #this is the conditional proba\n",
    "        proba_sm=sm_probabilities.get(str(treekmer)+ \"|\"+str(twokmer)) \n",
    "        proba_data_pathogen.append(proba_path)\n",
    "        proba_data_sandmouse.append(proba_sm)\n",
    "\n",
    "    log_condtional_proba_pathogen=sum(np.log(proba_data_pathogen))#log of each proba\n",
    "    score_sequence_pathogen_1=(initial_proba_seq_log_path + log_condtional_proba_pathogen) \n",
    "\n",
    "    log_condtional_proba_sandmouse=sum(np.log(proba_data_sandmouse))#log of each proba\n",
    "    score_sequence_sandmouse_1=initial_proba_seq_log_sm + log_condtional_proba_sandmouse#append a score for each sequence\n",
    "\n",
    "    LLM_1 = score_sequence_pathogen_1-score_sequence_sandmouse_1 \n",
    "    LLM_reccords_pathogen_sample.append(float(LLM_1))#append a score for each sequence\n",
    "\n"
   ]
  },
  {
   "cell_type": "code",
   "execution_count": 47,
   "metadata": {},
   "outputs": [],
   "source": [
    "LLM_reccords_sm_sample=[]    \n",
    "for sequence in sandmouse_data_testing_sample :\n",
    "    \n",
    "    initial_proba_seq_log_sm =np.log(dict_sm_2.get(sequence[0:2]))  #dict_sm_2.getcontains the proba for the 2kmers\n",
    "    proba_data_sandmouse=[] #reinitalize \n",
    "    \n",
    "    initial_proba_seq_log_pathogen =np.log(dict_path_2.get(sequence[0:2]))\n",
    "    proba_data_pathogen=[] #reinitalize \n",
    "    \n",
    "    for position_index in range(2,len(sequence)-2):\n",
    "        twokmer=sequence[(position_index-2):position_index]\n",
    "        treekmer=sequence[(position_index-2):position_index+1]\n",
    "        \n",
    "        proba_sm=sm_probabilities.get(str(treekmer)+ \"|\"+str(twokmer))\n",
    "        proba_data_sandmouse.append(proba_sm)\n",
    "        \n",
    "        proba_path=path_probabilities.get(str(treekmer)+ \"|\"+str(twokmer)) #this is the conditional proba\n",
    "        proba_data_pathogen.append(proba_path)\n",
    "        \n",
    "    log_condtional_proba_pathogen=sum(np.log(proba_data_pathogen))#sum of the log of each proba\n",
    "    score_sequence_pathogen_2=(initial_proba_seq_log_path + log_condtional_proba_pathogen) \n",
    "\n",
    "    log_condtional_proba_sandmouse=sum(np.log(proba_data_sandmouse))#log of each proba\n",
    "    score_sequence_sandmouse_2=initial_proba_seq_log_sm + log_condtional_proba_sandmouse#append a score for each sequence\n",
    "\n",
    "    LLM_2 = score_sequence_pathogen_2 - score_sequence_sandmouse_2\n",
    "    LLM_reccords_sm_sample.append(float(LLM_2))#append a score for each sequence"
   ]
  },
  {
   "cell_type": "code",
   "execution_count": 48,
   "metadata": {},
   "outputs": [],
   "source": [
    "max_score_Markov_sample =max(max(LLM_reccords_pathogen_sample),max(LLM_reccords_sm_sample))\n",
    "min_score_Markov_sample =min(min(LLM_reccords_pathogen_sample),min(LLM_reccords_sm_sample))"
   ]
  },
  {
   "cell_type": "code",
   "execution_count": 49,
   "metadata": {},
   "outputs": [],
   "source": [
    "sensitivity_Markov_sample,false_positive_rate_Markov_sample,thresholds_sample,FP_Markov_sample,TP_Markov_sample,TN_Markov_sample,FN_Markov_sample=get_sensitivities_RPR(score_set_1=LLM_reccords_pathogen_sample,\n",
    "                                                                                                            score_set_2=LLM_reccords_sm_sample,\n",
    "                                                                                                            min_score=min_score_Markov_sample,\n",
    "                                                                                                            max_score=max_score_Markov_sample,\n",
    "                                                                                                            step=0.01)\n",
    "                                                                                    \n",
    "\n"
   ]
  },
  {
   "cell_type": "code",
   "execution_count": 50,
   "metadata": {},
   "outputs": [
    {
     "data": {
      "image/png": "[encoded data removed]",
      "text/plain": [
       "<Figure size 432x288 with 1 Axes>"
      ]
     },
     "metadata": {
      "needs_background": "light"
     },
     "output_type": "display_data"
    }
   ],
   "source": [
    "plt.hist(LLM_reccords_pathogen_sample,bins=20,alpha=0.5,label='pathogen_data',density=True)\n",
    "plt.hist(LLM_reccords_sm_sample,bins=20,alpha=0.5, label='sandmouse_data',density=True)\n",
    "plt.legend(loc='upper right')\n",
    "plt.title('Log ratio distribution for pathogen and SM-sample(99% sandmouse and 1%pathogen)')\n",
    "plt.show()"
   ]
  },
  {
   "cell_type": "markdown",
   "metadata": {},
   "source": [
    "This could better be even better if i selected larger population size(with same ratio )"
   ]
  },
  {
   "cell_type": "code",
   "execution_count": 51,
   "metadata": {
    "scrolled": false
   },
   "outputs": [
    {
     "name": "stdout",
     "output_type": "stream",
     "text": [
      "The Area_under_curve is , 0.9874368686868686\n"
     ]
    },
    {
     "data": {
      "image/png": "[encoded data removed]",
      "text/plain": [
       "<Figure size 432x288 with 1 Axes>"
      ]
     },
     "metadata": {
      "needs_background": "light"
     },
     "output_type": "display_data"
    }
   ],
   "source": [
    "Area_under_curve_Markov_sample=metrics.auc(false_positive_rate_Markov_sample,sensitivity_Markov_sample)\n",
    "plt.plot(false_positive_rate_Markov_sample,sensitivity_Markov_sample)\n",
    "plt.ylabel('sensitivity')\n",
    "plt.xlabel('FPR(1-specificity)')\n",
    "#plt.xlim(0,1)\n",
    "#plt.ylim(0,1)\n",
    "plt.title('ROC curve for 2nd-order Markov model method')\n",
    "print(\"The Area_under_curve is ,\",Area_under_curve_Markov_sample)"
   ]
  },
  {
   "cell_type": "code",
   "execution_count": 52,
   "metadata": {},
   "outputs": [
    {
     "name": "stdout",
     "output_type": "stream",
     "text": [
      "sensitivity 0.9\n",
      "The corresponding FPR is 0.07121212121212117\n",
      "The corresponding threshold 0.5198353016016917\n"
     ]
    }
   ],
   "source": [
    "(value_of_sensitivity_sample,index_of_90sensitivity_sample)=find_nearest_sensitivity(array=sensitivity_Markov_sample, value=0.9)\n",
    "print('sensitivity',value_of_sensitivity_sample)\n",
    "false_positive_rate_90sensitivity_sample=false_positive_rate_Markov_sample[index_of_90sensitivity_sample]\n",
    "print('The corresponding FPR is',false_positive_rate_90sensitivity_sample)\n",
    "threshold_90sensitivity_sample=thresholds_sample[index_of_90sensitivity_sample]\n",
    "print('The corresponding threshold',threshold_90sensitivity_sample)"
   ]
  },
  {
   "cell_type": "markdown",
   "metadata": {},
   "source": [
    "--\n",
    "This means that even if we have a high sensitivity (90%) we still have a very high discovery rate - \n",
    "what I want to do next is to try to get at which -- we can have a FDR of 5%"
   ]
  },
  {
   "cell_type": "markdown",
   "metadata": {},
   "source": [
    " Lets adujst the log-odds scores accordingly to prior ratio - \n",
    "(for simplicity x is the sequence)\n",
    "what we have so far is \n",
    "LLR = log(P(x∣pathogen)/P(x∣sandmouse))\n",
    "But we know that p(pathogen)=0.01 and p(sandmouse)=0.99 \n",
    "\n",
    "so we have to adjust the LLR to obtain the Log posterior ratio\n",
    "\n",
    "\n",
    "LPR=log( P(x∣pathogen)*P(pathogen)  /   P(x∣sandmouse)*P(sandmouse) )"
   ]
  },
  {
   "cell_type": "code",
   "execution_count": 53,
   "metadata": {},
   "outputs": [],
   "source": [
    "proba_pathogen=0.01\n",
    "proba_sandmouse=0.99\n",
    "#def get the LLM for the pathogen testing set \n",
    "       \n",
    "LPR_reccords_pathogen_corrected=[] \n",
    "for sequence in pathogen_data_testing : \n",
    "    \n",
    "    initial_proba_seq_log_path =np.log(dict_path_2.get(sequence[0:2]))  \n",
    "    \n",
    "    proba_data_pathogen=[] #reinitalize \n",
    "    initial_proba_seq_log_sm =np.log(dict_sm_2.get(sequence[0:2]))\n",
    "    proba_data_sandmouse=[] #reinitalize \n",
    "    \n",
    "    for position_index in range(2,len(sequence)-2):\n",
    "        twokmer=sequence[(position_index-2):position_index]\n",
    "        treekmer=sequence[(position_index-2):position_index+1]\n",
    "        \n",
    "        proba_path=path_probabilities.get(str(treekmer)+ \"|\"+str(twokmer)) #this is the conditional proba\n",
    "        proba_sm=sm_probabilities.get(str(treekmer)+ \"|\"+str(twokmer)) \n",
    "        proba_data_pathogen.append(proba_path)\n",
    "        proba_data_sandmouse.append(proba_sm)\n",
    "\n",
    "    log_condtional_proba_pathogen=sum(np.log(proba_data_pathogen))#log of each proba\n",
    "    score_sequence_pathogen_3=(initial_proba_seq_log_path + log_condtional_proba_pathogen) +np.log(proba_pathogen)\n",
    "\n",
    "    log_condtional_proba_sandmouse=sum(np.log(proba_data_sandmouse))#log of each proba\n",
    "    score_sequence_sandmouse_3=initial_proba_seq_log_sm + log_condtional_proba_sandmouse +np.log(proba_sandmouse)\n",
    "    #append a score for each sequence\n",
    "\n",
    "    LPR_3 = score_sequence_pathogen_3-score_sequence_sandmouse_3 \n",
    "    LPR_reccords_pathogen_corrected.append(float(LPR_3))#append a score for each sequence\n",
    "\n"
   ]
  },
  {
   "cell_type": "code",
   "execution_count": 54,
   "metadata": {},
   "outputs": [],
   "source": [
    "#LPR_reccords_pathogen_corrected"
   ]
  },
  {
   "cell_type": "code",
   "execution_count": 55,
   "metadata": {},
   "outputs": [],
   "source": [
    "LPR_reccords_sm_corrected=[]    \n",
    "for sequence in sandmouse_data_testing :\n",
    "    \n",
    "    initial_proba_seq_log_sm =np.log(dict_sm_2.get(sequence[0:2]))  #dict_sm_2.getcontains the proba for the 2kmers\n",
    "    proba_data_sandmouse=[] #reinitalize \n",
    "    \n",
    "    initial_proba_seq_log_pathogen =np.log(dict_path_2.get(sequence[0:2]))\n",
    "    proba_data_pathogen=[] #reinitalize \n",
    "    \n",
    "    for position_index in range(2,len(sequence)-2):\n",
    "        twokmer=sequence[(position_index-2):position_index]\n",
    "        treekmer=sequence[(position_index-2):position_index+1]\n",
    "        \n",
    "        proba_sm=sm_probabilities.get(str(treekmer)+ \"|\"+str(twokmer))\n",
    "        proba_data_sandmouse.append(proba_sm)\n",
    "        \n",
    "        proba_path=path_probabilities.get(str(treekmer)+ \"|\"+str(twokmer)) #this is the conditional proba\n",
    "        proba_data_pathogen.append(proba_path)\n",
    "        \n",
    "    log_condtional_proba_pathogen=sum(np.log(proba_data_pathogen))#sum of the log of each proba\n",
    "    score_sequence_pathogen_4=(initial_proba_seq_log_path + log_condtional_proba_pathogen)+np.log(proba_pathogen)\n",
    "\n",
    "    log_condtional_proba_sandmouse=sum(np.log(proba_data_sandmouse))#log of each proba\n",
    "    score_sequence_sandmouse_4=initial_proba_seq_log_sm + log_condtional_proba_sandmouse+np.log(proba_sandmouse)\n",
    "    #append a score for each sequence\n",
    "\n",
    "    LPR_4 = score_sequence_pathogen_4 - score_sequence_sandmouse_4\n",
    "    LPR_reccords_sm_corrected.append(float(LPR_4))#append a score for each sequence"
   ]
  },
  {
   "cell_type": "code",
   "execution_count": 56,
   "metadata": {},
   "outputs": [
    {
     "data": {
      "image/png": "[encoded data removed]",
      "text/plain": [
       "<Figure size 432x288 with 1 Axes>"
      ]
     },
     "metadata": {
      "needs_background": "light"
     },
     "output_type": "display_data"
    },
    {
     "data": {
      "image/png": "[encoded data removed]",
      "text/plain": [
       "<Figure size 432x288 with 1 Axes>"
      ]
     },
     "metadata": {
      "needs_background": "light"
     },
     "output_type": "display_data"
    }
   ],
   "source": [
    "plt.hist(LPR_reccords_pathogen_corrected,alpha=0.5,bins=20,label='pathogen_data_corrected',density=True)\n",
    "plt.hist(LPR_reccords_sm_corrected,alpha=0.5,bins=20,label='sandmouse_corrected',density=True)\n",
    "plt.legend(loc='upper right')\n",
    "plt.title('Log Posterior ratio distribution-with correction')\n",
    "plt.show()\n",
    "\n",
    "plt.hist(LLM_reccords_pathogen,alpha=0.5,bins=20,label='pathogen_data',density=True)\n",
    "plt.hist(LLM_reccords_sm,alpha=0.5,bins=20,label='sandmouse',density=True)\n",
    "plt.legend(loc='upper right')\n",
    "plt.title('LMM distribution-whitout correction')\n",
    "plt.show()"
   ]
  },
  {
   "cell_type": "markdown",
   "metadata": {},
   "source": [
    "doesnt make the model better because only multiplying by a constant - but the actual scores changed"
   ]
  },
  {
   "cell_type": "code",
   "execution_count": 57,
   "metadata": {},
   "outputs": [],
   "source": [
    "#np.mean(LLM_reccords_pathogen_corrected)"
   ]
  },
  {
   "cell_type": "code",
   "execution_count": 58,
   "metadata": {},
   "outputs": [],
   "source": [
    "#np.mean(LLM_reccords_pathogen)"
   ]
  },
  {
   "cell_type": "code",
   "execution_count": 59,
   "metadata": {},
   "outputs": [],
   "source": [
    "max_score_Markov_corrected=max(max(LPR_reccords_pathogen_corrected),max(LPR_reccords_sm_corrected))\n",
    "min_score_Markov_corrected =min(min(LPR_reccords_pathogen_corrected),min(LPR_reccords_sm_corrected))"
   ]
  },
  {
   "cell_type": "code",
   "execution_count": 60,
   "metadata": {},
   "outputs": [],
   "source": [
    "(sensitivity_Markov_corrected,\n",
    "false_positive_rate_Markov_corrected,\n",
    "thresholds_corrected,FP_corrected,\n",
    "TP_corrected,\n",
    "TN_corrected,\n",
    "FN_corrected,)=get_sensitivities_RPR(score_set_1=LPR_reccords_pathogen_corrected,\n",
    "                        score_set_2=LPR_reccords_sm_corrected,\n",
    "                       min_score=min_score_Markov_corrected,\n",
    "                       max_score=max_score_Markov_corrected,\n",
    "                       step=0.01)\n",
    "                                                                                        "
   ]
  },
  {
   "cell_type": "code",
   "execution_count": 61,
   "metadata": {
    "scrolled": true
   },
   "outputs": [
    {
     "name": "stdout",
     "output_type": "stream",
     "text": [
      "The Area_under_curve is , 0.9689431199999999\n"
     ]
    },
    {
     "data": {
      "image/png": "[encoded data removed]",
      "text/plain": [
       "<Figure size 432x288 with 1 Axes>"
      ]
     },
     "metadata": {
      "needs_background": "light"
     },
     "output_type": "display_data"
    }
   ],
   "source": [
    "Area_under_curve_Markov_corrected=metrics.auc(false_positive_rate_Markov,sensitivity_Markov)\n",
    "plt.plot(false_positive_rate_Markov_corrected,sensitivity_Markov_corrected)\n",
    "plt.ylabel('sensitivity')\n",
    "plt.xlabel('FPR(1-specificity)')\n",
    "plt.xlim(0,1)\n",
    "plt.ylim(0,1)\n",
    "plt.title('ROC curve using ')\n",
    "print(\"The Area_under_curve is ,\",Area_under_curve_Markov_corrected)"
   ]
  },
  {
   "cell_type": "code",
   "execution_count": 62,
   "metadata": {},
   "outputs": [
    {
     "name": "stdout",
     "output_type": "stream",
     "text": [
      "sensitivity 0.9002\n",
      "FPR 0.09060000000000001\n",
      "threshold 0.4915768750482137\n"
     ]
    }
   ],
   "source": [
    "(value_of_sensitivity_corrected,index_of_90sensitivity_corrected)=find_nearest_sensitivity(array=sensitivity_Markov_corrected, value=0.9)\n",
    "print('sensitivity',value_of_sensitivity_corrected)\n",
    "false_positive_rate_90sensitivity_corrected=false_positive_rate_Markov[index_of_90sensitivity_corrected]\n",
    "print('FPR',false_positive_rate_90sensitivity_corrected)\n",
    "threshold_90sensitivity_corrected=thresholds[index_of_90sensitivity_corrected]\n",
    "print('threshold',threshold_90sensitivity_corrected)"
   ]
  },
  {
   "cell_type": "code",
   "execution_count": null,
   "metadata": {},
   "outputs": [],
   "source": []
  }
 ],
 "metadata": {
  "kernelspec": {
   "display_name": "Python 3",
   "language": "python",
   "name": "python3"
  },
  "language_info": {
   "codemirror_mode": {
    "name": "ipython",
    "version": 3
   },
   "file_extension": ".py",
   "mimetype": "text/x-python",
   "name": "python",
   "nbconvert_exporter": "python",
   "pygments_lexer": "ipython3",
   "version": "3.7.3"
  }
 },
 "nbformat": 4,
 "nbformat_minor": 2
}
